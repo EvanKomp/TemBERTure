{
 "cells": [
  {
   "cell_type": "code",
   "execution_count": 1,
   "metadata": {},
   "outputs": [],
   "source": [
    "import warnings\n",
    "import os \n",
    "warnings.filterwarnings(\"ignore\")\n",
    "import matplotlib as mpl\n",
    "\n",
    "backend_ =  mpl.get_backend() \n",
    "mpl.use(\"Agg\")  # Prevent showing stuff"
   ]
  },
  {
   "cell_type": "markdown",
   "metadata": {},
   "source": [
    "# 1 INDIVIDUAL APPROACH \n",
    "## 1.1 CLASSIFIER: TEST ON REGRESSION DATA"
   ]
  },
  {
   "cell_type": "code",
   "execution_count": 2,
   "metadata": {},
   "outputs": [],
   "source": [
    "%%capture\n",
    "wd ='/ibmm_data/TemBERTure/model/BERT_cls/adapters/BEST_MODEL/lr_1e-5_headropout01/test_regression_data/'\n",
    "os.chdir(wd)\n",
    "from species_analysis import species_analysis    \n",
    "species_analysis(wd,'classification_on_regression_data')"
   ]
  },
  {
   "cell_type": "markdown",
   "metadata": {},
   "source": [
    "## 1.2 CLASSIFIER: TEST ON CLASSIFICATION DATA"
   ]
  },
  {
   "cell_type": "code",
   "execution_count": 3,
   "metadata": {},
   "outputs": [],
   "source": [
    "%%capture\n",
    "wd ='/ibmm_data/TemBERTure/model/BERT_cls/adapters/BEST_MODEL/lr_1e-5_headropout01/test_classifier_data/'\n",
    "os.chdir(wd)\n",
    "from species_analysis import species_analysis    \n",
    "species_analysis(wd,'classification')"
   ]
  },
  {
   "cell_type": "markdown",
   "metadata": {},
   "source": [
    "## 1.3 REGRESSOR : TEST ON REGRESSION DATA"
   ]
  },
  {
   "cell_type": "code",
   "execution_count": 4,
   "metadata": {},
   "outputs": [
    {
     "name": "stdout",
     "output_type": "stream",
     "text": [
      "#########################################################\n",
      "['Geobacillus_stearothermophilus' 'Picrophilus_torridus'\n",
      " 'Thermus_thermophilus' 'Escherichia_coli' 'Homo_sapiens'\n",
      " 'Arabidopsis_thaliana' 'Saccharomyces_cerevisiae' 'Danio_rerio'\n",
      " 'Caenorhabditis_elegans' 'Drosophila_melanogaster' 'Mus_musculus']\n"
     ]
    },
    {
     "data": {
      "text/plain": [
       "True"
      ]
     },
     "execution_count": 4,
     "metadata": {},
     "output_type": "execute_result"
    }
   ],
   "source": [
    "wd='/ibmm_data/TemBERTure/model/BERT_regr/adapters/BEST_MODEL/lr1e-4_headdrop01_warmup10%/test_on_regression_data/'\n",
    "os.chdir(wd)\n",
    "from species_analysis import species_analysis    \n",
    "species_analysis(wd,'regression')"
   ]
  }
 ],
 "metadata": {
  "kernelspec": {
   "display_name": "Python 3",
   "language": "python",
   "name": "python3"
  },
  "language_info": {
   "codemirror_mode": {
    "name": "ipython",
    "version": 3
   },
   "file_extension": ".py",
   "mimetype": "text/x-python",
   "name": "python",
   "nbconvert_exporter": "python",
   "pygments_lexer": "ipython3",
   "version": "3.8.5"
  }
 },
 "nbformat": 4,
 "nbformat_minor": 2
}
